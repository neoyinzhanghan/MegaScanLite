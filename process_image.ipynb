{
 "cells": [
  {
   "cell_type": "code",
   "execution_count": 17,
   "metadata": {},
   "outputs": [],
   "source": [
    "image_path = \"/Users/neo/Downloads/neothenerdy_chatGPT_as_a_human_--v_5.2_ad184c8b-5704-4a49-bf67-684c2b0a1f0b_3.png\""
   ]
  },
  {
   "cell_type": "code",
   "execution_count": 18,
   "metadata": {},
   "outputs": [],
   "source": [
    "from PIL import Image\n",
    "\n",
    "img = Image.open(image_path)\n",
    "img.show()"
   ]
  },
  {
   "cell_type": "code",
   "execution_count": 19,
   "metadata": {},
   "outputs": [],
   "source": [
    "from PIL import Image, ImageDraw\n",
    "\n",
    "# Assuming 'img' is your original PIL Image object\n",
    "original_width, original_height = img.size\n",
    "\n",
    "# Desired aspect ratio\n",
    "aspect_ratio = 24 / 30\n",
    "\n",
    "# Calculate the necessary dimensions for the canvas\n",
    "# First, assume the width is correct and calculate the necessary height\n",
    "target_height = original_width / aspect_ratio\n",
    "if target_height < original_height:\n",
    "    # If the calculated height is less than the original height, adjust the width instead\n",
    "    target_height = original_height\n",
    "    target_width = target_height * aspect_ratio\n",
    "else:\n",
    "    # If the calculated height is greater, use it and keep the original width\n",
    "    target_width = original_width\n",
    "\n",
    "# Convert dimensions to integers and ensure they are at least as large as the original dimensions\n",
    "target_width = max(original_width, int(target_width))\n",
    "target_height = max(original_height, int(target_height))\n",
    "\n",
    "# Create a new image with a white background that matches the target size\n",
    "canvas = Image.new('RGB', (target_width, target_height), 'white')\n",
    "\n",
    "# Calculate position to paste the original image to the bottom center of the new canvas\n",
    "x = (target_width - original_width) // 2\n",
    "y = target_height - original_height  # Paste at the bottom\n",
    "\n",
    "# Paste the original image onto the canvas at the calculated position\n",
    "canvas.paste(img, (x, y))\n",
    "\n",
    "# Create a drawing object to draw on the canvas\n",
    "draw = ImageDraw.Draw(canvas)\n",
    "\n",
    "# Set the color of the grid lines (red)\n",
    "line_color = 'red'\n",
    "\n",
    "# Draw vertical lines for the 8x10 grid\n",
    "for i in range(1, 8):  # 10 vertical lines (creates 8 columns)\n",
    "    line_x = i * (target_width / 8)\n",
    "    draw.line([(line_x, 0), (line_x, target_height)], fill=line_color, width=1)\n",
    "\n",
    "# Draw horizontal lines for the 8x10 grid\n",
    "for i in range(1, 10):  # 8 horizontal lines (creates 10 rows)\n",
    "    line_y = i * (target_height / 10)\n",
    "    draw.line([(0, line_y), (target_width, line_y)], fill=line_color, width=1)\n",
    "\n",
    "# Show the result\n",
    "canvas.show()\n"
   ]
  }
 ],
 "metadata": {
  "kernelspec": {
   "display_name": "HemeYolo-dev",
   "language": "python",
   "name": "python3"
  },
  "language_info": {
   "codemirror_mode": {
    "name": "ipython",
    "version": 3
   },
   "file_extension": ".py",
   "mimetype": "text/x-python",
   "name": "python",
   "nbconvert_exporter": "python",
   "pygments_lexer": "ipython3",
   "version": "3.8.10"
  }
 },
 "nbformat": 4,
 "nbformat_minor": 2
}
